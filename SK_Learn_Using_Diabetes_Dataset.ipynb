{
  "nbformat": 4,
  "nbformat_minor": 0,
  "metadata": {
    "colab": {
      "provenance": []
    },
    "kernelspec": {
      "name": "python3",
      "display_name": "Python 3"
    },
    "language_info": {
      "name": "python"
    }
  },
  "cells": [
    {
      "cell_type": "code",
      "execution_count": 81,
      "metadata": {
        "id": "RYo4CvkR3Ims"
      },
      "outputs": [],
      "source": [
        "from sklearn.linear_model import LinearRegression\n",
        "from sklearn.datasets import load_diabetes\n",
        "import pandas as pd\n",
        "from matplotlib import pyplot as plt\n",
        "from sklearn.model_selection import train_test_split\n",
        "from sklearn.metrics import r2_score, mean_squared_error\n",
        "## we can also write the above line of code as\n",
        "## import matplotlib.pyplot as plt"
      ]
    },
    {
      "cell_type": "code",
      "source": [
        "datasets = load_diabetes()"
      ],
      "metadata": {
        "id": "cTyKkuDL4VYh"
      },
      "execution_count": 33,
      "outputs": []
    },
    {
      "cell_type": "markdown",
      "source": [
        "In this we store the dataset inside the variable datasets"
      ],
      "metadata": {
        "id": "HJ4Uf0HU5znj"
      }
    },
    {
      "cell_type": "code",
      "source": [
        "print(datasets.DESCR)"
      ],
      "metadata": {
        "colab": {
          "base_uri": "https://localhost:8080/"
        },
        "id": "_-g_JOkV4cVk",
        "outputId": "baf869d1-823a-4554-eebe-75a9b2b6adf2"
      },
      "execution_count": 34,
      "outputs": [
        {
          "output_type": "stream",
          "name": "stdout",
          "text": [
            ".. _diabetes_dataset:\n",
            "\n",
            "Diabetes dataset\n",
            "----------------\n",
            "\n",
            "Ten baseline variables, age, sex, body mass index, average blood\n",
            "pressure, and six blood serum measurements were obtained for each of n =\n",
            "442 diabetes patients, as well as the response of interest, a\n",
            "quantitative measure of disease progression one year after baseline.\n",
            "\n",
            "**Data Set Characteristics:**\n",
            "\n",
            "  :Number of Instances: 442\n",
            "\n",
            "  :Number of Attributes: First 10 columns are numeric predictive values\n",
            "\n",
            "  :Target: Column 11 is a quantitative measure of disease progression one year after baseline\n",
            "\n",
            "  :Attribute Information:\n",
            "      - age     age in years\n",
            "      - sex\n",
            "      - bmi     body mass index\n",
            "      - bp      average blood pressure\n",
            "      - s1      tc, total serum cholesterol\n",
            "      - s2      ldl, low-density lipoproteins\n",
            "      - s3      hdl, high-density lipoproteins\n",
            "      - s4      tch, total cholesterol / HDL\n",
            "      - s5      ltg, possibly log of serum triglycerides level\n",
            "      - s6      glu, blood sugar level\n",
            "\n",
            "Note: Each of these 10 feature variables have been mean centered and scaled by the standard deviation times the square root of `n_samples` (i.e. the sum of squares of each column totals 1).\n",
            "\n",
            "Source URL:\n",
            "https://www4.stat.ncsu.edu/~boos/var.select/diabetes.html\n",
            "\n",
            "For more information see:\n",
            "Bradley Efron, Trevor Hastie, Iain Johnstone and Robert Tibshirani (2004) \"Least Angle Regression,\" Annals of Statistics (with discussion), 407-499.\n",
            "(https://web.stanford.edu/~hastie/Papers/LARS/LeastAngle_2002.pdf)\n",
            "\n"
          ]
        }
      ]
    },
    {
      "cell_type": "markdown",
      "source": [
        "This piece of code is used for giving a comprehensive understanding of the dataset"
      ],
      "metadata": {
        "id": "JOlc7V9m55uw"
      }
    },
    {
      "cell_type": "markdown",
      "source": [
        "SO TO HAVE A BETTER UNDERSTANDING THE DATASET IS STORED IN FORM OF A DICTIONARY WHERE THE KEY 'DATA' IS THE BUNCH OF INDEPENDANT DETERMINING FEATURES OF THE 10 DIFFERENT KINDS AND 442 DIFFERENT INSTANCES AND THE KEY 'TARGET' IS THE DEPENDANT OUTPUT PARAMETER WHICH WE ARE TRYING TO PREDICT FROM THE REGRESSION MODEL WE ARE BUILDING"
      ],
      "metadata": {
        "id": "3CF5rrrQ_1dv"
      }
    },
    {
      "cell_type": "code",
      "source": [
        "# the .size method returns the entire size or basically the total number of data-points records stored in the dataset\n",
        "datasets['data'].size"
      ],
      "metadata": {
        "colab": {
          "base_uri": "https://localhost:8080/"
        },
        "id": "DwFs4-NK7cje",
        "outputId": "9d5bbfd2-fe20-49fe-d3bf-7c6a5abba3f5"
      },
      "execution_count": 35,
      "outputs": [
        {
          "output_type": "execute_result",
          "data": {
            "text/plain": [
              "4420"
            ]
          },
          "metadata": {},
          "execution_count": 35
        }
      ]
    },
    {
      "cell_type": "code",
      "source": [
        "datasets['target'].shape"
      ],
      "metadata": {
        "colab": {
          "base_uri": "https://localhost:8080/"
        },
        "id": "H4NkwLvn4dvT",
        "outputId": "768c4948-22c3-4413-fe44-856d3bb9d722"
      },
      "execution_count": 36,
      "outputs": [
        {
          "output_type": "execute_result",
          "data": {
            "text/plain": [
              "(442,)"
            ]
          },
          "metadata": {},
          "execution_count": 36
        }
      ]
    },
    {
      "cell_type": "code",
      "source": [
        "datasets['data'].shape"
      ],
      "metadata": {
        "colab": {
          "base_uri": "https://localhost:8080/"
        },
        "id": "t6cbePPr9H0r",
        "outputId": "00406d01-258e-4583-d8ef-e19b81f2c1e8"
      },
      "execution_count": 37,
      "outputs": [
        {
          "output_type": "execute_result",
          "data": {
            "text/plain": [
              "(442, 10)"
            ]
          },
          "metadata": {},
          "execution_count": 37
        }
      ]
    },
    {
      "cell_type": "markdown",
      "source": [
        "Simple Linear Regressor with the 1st independant variable age in the datset (i.e age) for predicting dependant feature. X_1 to Y"
      ],
      "metadata": {
        "id": "4YhgW-26BBoq"
      }
    },
    {
      "cell_type": "code",
      "source": [
        "## This is our sole input parameter for our regression model\n",
        "X = datasets['data'][...,0:1] ## 2-D array\n",
        "## both the pieces of code above and below geenrate the same code but upper generates a 2-D array and the lower one generates a 1-D array\n",
        "# X = datasets['data'][...,0] ## 1-D array\n",
        "## This is our output parameter of our regression model\n",
        "Y = datasets['target']\n",
        "print(X,Y)"
      ],
      "metadata": {
        "colab": {
          "base_uri": "https://localhost:8080/"
        },
        "id": "iO_DT8vxAuYE",
        "outputId": "539c511b-b20f-4f91-e50b-e16cb1d18621"
      },
      "execution_count": 38,
      "outputs": [
        {
          "output_type": "stream",
          "name": "stdout",
          "text": [
            "[[ 0.03807591]\n",
            " [-0.00188202]\n",
            " [ 0.08529891]\n",
            " [-0.08906294]\n",
            " [ 0.00538306]\n",
            " [-0.09269548]\n",
            " [-0.04547248]\n",
            " [ 0.06350368]\n",
            " [ 0.04170844]\n",
            " [-0.07090025]\n",
            " [-0.09632802]\n",
            " [ 0.02717829]\n",
            " [ 0.01628068]\n",
            " [ 0.00538306]\n",
            " [ 0.04534098]\n",
            " [-0.05273755]\n",
            " [-0.00551455]\n",
            " [ 0.07076875]\n",
            " [-0.0382074 ]\n",
            " [-0.02730979]\n",
            " [-0.04910502]\n",
            " [-0.0854304 ]\n",
            " [-0.0854304 ]\n",
            " [ 0.04534098]\n",
            " [-0.06363517]\n",
            " [-0.06726771]\n",
            " [-0.10722563]\n",
            " [-0.02367725]\n",
            " [ 0.05260606]\n",
            " [ 0.06713621]\n",
            " [-0.06000263]\n",
            " [-0.02367725]\n",
            " [ 0.03444337]\n",
            " [ 0.03081083]\n",
            " [ 0.01628068]\n",
            " [ 0.04897352]\n",
            " [ 0.01264814]\n",
            " [-0.00914709]\n",
            " [-0.00188202]\n",
            " [-0.00188202]\n",
            " [ 0.00538306]\n",
            " [-0.09996055]\n",
            " [-0.06000263]\n",
            " [ 0.01991321]\n",
            " [ 0.04534098]\n",
            " [ 0.02717829]\n",
            " [-0.05637009]\n",
            " [-0.07816532]\n",
            " [ 0.06713621]\n",
            " [-0.04183994]\n",
            " [ 0.03444337]\n",
            " [ 0.05987114]\n",
            " [-0.05273755]\n",
            " [-0.00914709]\n",
            " [-0.04910502]\n",
            " [-0.04183994]\n",
            " [-0.04183994]\n",
            " [-0.02730979]\n",
            " [ 0.04170844]\n",
            " [ 0.06350368]\n",
            " [-0.07090025]\n",
            " [-0.04183994]\n",
            " [-0.02730979]\n",
            " [-0.03457486]\n",
            " [ 0.06713621]\n",
            " [-0.04547248]\n",
            " [-0.00914709]\n",
            " [ 0.04170844]\n",
            " [ 0.03807591]\n",
            " [ 0.01628068]\n",
            " [-0.00188202]\n",
            " [-0.00188202]\n",
            " [ 0.06350368]\n",
            " [ 0.01264814]\n",
            " [ 0.01264814]\n",
            " [-0.00914709]\n",
            " [-0.03094232]\n",
            " [-0.09632802]\n",
            " [ 0.00538306]\n",
            " [-0.10359309]\n",
            " [ 0.07076875]\n",
            " [ 0.01264814]\n",
            " [-0.01641217]\n",
            " [-0.0382074 ]\n",
            " [ 0.00175052]\n",
            " [ 0.04534098]\n",
            " [-0.07090025]\n",
            " [ 0.04534098]\n",
            " [-0.05273755]\n",
            " [-0.04547248]\n",
            " [ 0.01264814]\n",
            " [ 0.04534098]\n",
            " [-0.02004471]\n",
            " [-0.04910502]\n",
            " [-0.07816532]\n",
            " [-0.07090025]\n",
            " [ 0.0562386 ]\n",
            " [-0.02730979]\n",
            " [ 0.00175052]\n",
            " [-0.00188202]\n",
            " [ 0.01628068]\n",
            " [ 0.01628068]\n",
            " [-0.09269548]\n",
            " [ 0.05987114]\n",
            " [-0.02730979]\n",
            " [ 0.02354575]\n",
            " [-0.09632802]\n",
            " [ 0.02717829]\n",
            " [ 0.01991321]\n",
            " [ 0.03807591]\n",
            " [ 0.04170844]\n",
            " [ 0.01991321]\n",
            " [-0.0854304 ]\n",
            " [ 0.01991321]\n",
            " [ 0.02354575]\n",
            " [-0.03094232]\n",
            " [ 0.04897352]\n",
            " [ 0.05987114]\n",
            " [-0.05637009]\n",
            " [ 0.01628068]\n",
            " [-0.04910502]\n",
            " [ 0.06350368]\n",
            " [ 0.04897352]\n",
            " [ 0.00538306]\n",
            " [-0.00551455]\n",
            " [-0.00551455]\n",
            " [-0.08906294]\n",
            " [ 0.03444337]\n",
            " [-0.05273755]\n",
            " [ 0.0090156 ]\n",
            " [-0.06363517]\n",
            " [-0.09632802]\n",
            " [ 0.01628068]\n",
            " [-0.04183994]\n",
            " [-0.07453279]\n",
            " [-0.00551455]\n",
            " [-0.09269548]\n",
            " [ 0.00538306]\n",
            " [ 0.03444337]\n",
            " [ 0.02354575]\n",
            " [ 0.04170844]\n",
            " [-0.02730979]\n",
            " [ 0.04170844]\n",
            " [-0.03094232]\n",
            " [ 0.03081083]\n",
            " [-0.04183994]\n",
            " [-0.03094232]\n",
            " [-0.05637009]\n",
            " [-0.06000263]\n",
            " [-0.04910502]\n",
            " [ 0.02354575]\n",
            " [ 0.00175052]\n",
            " [-0.03457486]\n",
            " [ 0.04170844]\n",
            " [ 0.06713621]\n",
            " [-0.02730979]\n",
            " [-0.01641217]\n",
            " [-0.00188202]\n",
            " [-0.01277963]\n",
            " [-0.00551455]\n",
            " [-0.00914709]\n",
            " [-0.04547248]\n",
            " [-0.05273755]\n",
            " [ 0.01628068]\n",
            " [ 0.04534098]\n",
            " [-0.04183994]\n",
            " [-0.05637009]\n",
            " [ 0.07076875]\n",
            " [ 0.00175052]\n",
            " [-0.00188202]\n",
            " [ 0.02354575]\n",
            " [-0.02004471]\n",
            " [ 0.04170844]\n",
            " [-0.06363517]\n",
            " [ 0.01628068]\n",
            " [ 0.06713621]\n",
            " [ 0.04534098]\n",
            " [ 0.04897352]\n",
            " [ 0.04170844]\n",
            " [-0.02367725]\n",
            " [-0.0382074 ]\n",
            " [ 0.04897352]\n",
            " [ 0.04534098]\n",
            " [ 0.04534098]\n",
            " [ 0.01628068]\n",
            " [-0.07453279]\n",
            " [-0.08179786]\n",
            " [-0.06726771]\n",
            " [ 0.00538306]\n",
            " [-0.00188202]\n",
            " [ 0.0090156 ]\n",
            " [-0.00551455]\n",
            " [ 0.0562386 ]\n",
            " [ 0.0090156 ]\n",
            " [-0.06726771]\n",
            " [ 0.02717829]\n",
            " [-0.02367725]\n",
            " [ 0.04897352]\n",
            " [-0.05273755]\n",
            " [ 0.04170844]\n",
            " [ 0.0562386 ]\n",
            " [-0.03457486]\n",
            " [ 0.08166637]\n",
            " [-0.00188202]\n",
            " [ 0.11072668]\n",
            " [-0.03094232]\n",
            " [ 0.00175052]\n",
            " [ 0.0090156 ]\n",
            " [ 0.03081083]\n",
            " [ 0.03807591]\n",
            " [ 0.0090156 ]\n",
            " [ 0.09256398]\n",
            " [ 0.06713621]\n",
            " [ 0.00175052]\n",
            " [ 0.03081083]\n",
            " [ 0.02717829]\n",
            " [ 0.01264814]\n",
            " [ 0.07440129]\n",
            " [-0.04183994]\n",
            " [-0.08906294]\n",
            " [ 0.02354575]\n",
            " [-0.04547248]\n",
            " [-0.02367725]\n",
            " [-0.09996055]\n",
            " [-0.02730979]\n",
            " [ 0.03081083]\n",
            " [-0.10359309]\n",
            " [ 0.06713621]\n",
            " [-0.05273755]\n",
            " [-0.02730979]\n",
            " [-0.0382074 ]\n",
            " [ 0.0090156 ]\n",
            " [ 0.01264814]\n",
            " [ 0.06713621]\n",
            " [ 0.04534098]\n",
            " [ 0.06713621]\n",
            " [ 0.02717829]\n",
            " [ 0.0562386 ]\n",
            " [ 0.03444337]\n",
            " [ 0.02354575]\n",
            " [ 0.04897352]\n",
            " [ 0.03081083]\n",
            " [-0.10359309]\n",
            " [ 0.01628068]\n",
            " [-0.06000263]\n",
            " [-0.02730979]\n",
            " [ 0.04170844]\n",
            " [-0.08179786]\n",
            " [-0.04183994]\n",
            " [-0.01277963]\n",
            " [ 0.06713621]\n",
            " [-0.05273755]\n",
            " [ 0.00538306]\n",
            " [ 0.08166637]\n",
            " [ 0.03081083]\n",
            " [ 0.00175052]\n",
            " [-0.04910502]\n",
            " [-0.02730979]\n",
            " [ 0.07803383]\n",
            " [ 0.01264814]\n",
            " [ 0.04170844]\n",
            " [ 0.04897352]\n",
            " [-0.01641217]\n",
            " [-0.07453279]\n",
            " [ 0.03444337]\n",
            " [-0.03457486]\n",
            " [-0.05273755]\n",
            " [ 0.05987114]\n",
            " [ 0.06350368]\n",
            " [ 0.0090156 ]\n",
            " [ 0.00538306]\n",
            " [ 0.03807591]\n",
            " [ 0.01264814]\n",
            " [ 0.07440129]\n",
            " [ 0.01628068]\n",
            " [-0.00551455]\n",
            " [ 0.01264814]\n",
            " [-0.03457486]\n",
            " [ 0.06713621]\n",
            " [ 0.03807591]\n",
            " [ 0.0090156 ]\n",
            " [-0.09269548]\n",
            " [ 0.07076875]\n",
            " [-0.01641217]\n",
            " [ 0.04170844]\n",
            " [ 0.01264814]\n",
            " [-0.0382074 ]\n",
            " [ 0.04534098]\n",
            " [ 0.07076875]\n",
            " [-0.07453279]\n",
            " [ 0.05987114]\n",
            " [ 0.07440129]\n",
            " [ 0.0090156 ]\n",
            " [-0.07090025]\n",
            " [ 0.02354575]\n",
            " [-0.05273755]\n",
            " [ 0.06713621]\n",
            " [ 0.00175052]\n",
            " [ 0.02354575]\n",
            " [ 0.03807591]\n",
            " [ 0.01628068]\n",
            " [-0.00188202]\n",
            " [ 0.01264814]\n",
            " [ 0.07440129]\n",
            " [ 0.04170844]\n",
            " [-0.00914709]\n",
            " [ 0.0090156 ]\n",
            " [ 0.06713621]\n",
            " [ 0.00175052]\n",
            " [-0.00914709]\n",
            " [-0.00551455]\n",
            " [ 0.09619652]\n",
            " [-0.07453279]\n",
            " [ 0.05987114]\n",
            " [-0.02367725]\n",
            " [ 0.0090156 ]\n",
            " [ 0.01628068]\n",
            " [ 0.01991321]\n",
            " [ 0.08893144]\n",
            " [ 0.01991321]\n",
            " [-0.02367725]\n",
            " [ 0.09619652]\n",
            " [ 0.02354575]\n",
            " [ 0.07076875]\n",
            " [ 0.03081083]\n",
            " [-0.00188202]\n",
            " [ 0.04534098]\n",
            " [ 0.07440129]\n",
            " [-0.0382074 ]\n",
            " [-0.01277963]\n",
            " [ 0.0090156 ]\n",
            " [ 0.08166637]\n",
            " [ 0.03081083]\n",
            " [ 0.02717829]\n",
            " [-0.06000263]\n",
            " [ 0.00538306]\n",
            " [-0.02004471]\n",
            " [ 0.01991321]\n",
            " [-0.06363517]\n",
            " [ 0.02717829]\n",
            " [-0.01641217]\n",
            " [ 0.03081083]\n",
            " [ 0.0562386 ]\n",
            " [-0.02004471]\n",
            " [-0.10722563]\n",
            " [ 0.08166637]\n",
            " [ 0.00538306]\n",
            " [ 0.03807591]\n",
            " [ 0.03081083]\n",
            " [ 0.00175052]\n",
            " [-0.02730979]\n",
            " [-0.0854304 ]\n",
            " [ 0.01264814]\n",
            " [-0.05273755]\n",
            " [-0.02367725]\n",
            " [-0.07453279]\n",
            " [-0.00551455]\n",
            " [-0.06000263]\n",
            " [-0.02004471]\n",
            " [ 0.03807591]\n",
            " [ 0.01628068]\n",
            " [ 0.04170844]\n",
            " [ 0.01991321]\n",
            " [-0.04910502]\n",
            " [ 0.00175052]\n",
            " [ 0.03444337]\n",
            " [-0.04547248]\n",
            " [-0.00914709]\n",
            " [-0.01641217]\n",
            " [-0.00914709]\n",
            " [ 0.01991321]\n",
            " [ 0.05260606]\n",
            " [-0.02730979]\n",
            " [-0.07453279]\n",
            " [-0.10722563]\n",
            " [ 0.04534098]\n",
            " [-0.00188202]\n",
            " [ 0.01991321]\n",
            " [ 0.01628068]\n",
            " [-0.00188202]\n",
            " [ 0.01628068]\n",
            " [-0.07090025]\n",
            " [ 0.04897352]\n",
            " [ 0.00538306]\n",
            " [ 0.03444337]\n",
            " [ 0.02354575]\n",
            " [ 0.01991321]\n",
            " [-0.04547248]\n",
            " [ 0.05260606]\n",
            " [-0.00551455]\n",
            " [ 0.0090156 ]\n",
            " [-0.02367725]\n",
            " [-0.04183994]\n",
            " [-0.07453279]\n",
            " [ 0.03444337]\n",
            " [-0.06000263]\n",
            " [-0.0854304 ]\n",
            " [ 0.05260606]\n",
            " [ 0.01264814]\n",
            " [ 0.05987114]\n",
            " [-0.02367725]\n",
            " [ 0.01628068]\n",
            " [ 0.11072668]\n",
            " [-0.02004471]\n",
            " [-0.01641217]\n",
            " [ 0.04897352]\n",
            " [-0.05637009]\n",
            " [ 0.02717829]\n",
            " [ 0.06350368]\n",
            " [-0.05273755]\n",
            " [-0.00914709]\n",
            " [ 0.00538306]\n",
            " [ 0.07440129]\n",
            " [-0.05273755]\n",
            " [ 0.08166637]\n",
            " [-0.00551455]\n",
            " [-0.02730979]\n",
            " [-0.05273755]\n",
            " [ 0.0090156 ]\n",
            " [-0.02004471]\n",
            " [ 0.02354575]\n",
            " [ 0.03807591]\n",
            " [-0.07816532]\n",
            " [ 0.0090156 ]\n",
            " [ 0.00175052]\n",
            " [-0.07816532]\n",
            " [ 0.03081083]\n",
            " [-0.03457486]\n",
            " [ 0.04897352]\n",
            " [-0.04183994]\n",
            " [-0.00914709]\n",
            " [ 0.07076875]\n",
            " [ 0.0090156 ]\n",
            " [-0.02730979]\n",
            " [ 0.01628068]\n",
            " [-0.01277963]\n",
            " [-0.05637009]\n",
            " [ 0.04170844]\n",
            " [-0.00551455]\n",
            " [ 0.04170844]\n",
            " [-0.04547248]\n",
            " [-0.04547248]] [151.  75. 141. 206. 135.  97. 138.  63. 110. 310. 101.  69. 179. 185.\n",
            " 118. 171. 166. 144.  97. 168.  68.  49.  68. 245. 184. 202. 137.  85.\n",
            " 131. 283. 129.  59. 341.  87.  65. 102. 265. 276. 252.  90. 100.  55.\n",
            "  61.  92. 259.  53. 190. 142.  75. 142. 155. 225.  59. 104. 182. 128.\n",
            "  52.  37. 170. 170.  61. 144.  52. 128.  71. 163. 150.  97. 160. 178.\n",
            "  48. 270. 202. 111.  85.  42. 170. 200. 252. 113. 143.  51.  52. 210.\n",
            "  65. 141.  55. 134.  42. 111.  98. 164.  48.  96.  90. 162. 150. 279.\n",
            "  92.  83. 128. 102. 302. 198.  95.  53. 134. 144. 232.  81. 104.  59.\n",
            " 246. 297. 258. 229. 275. 281. 179. 200. 200. 173. 180.  84. 121. 161.\n",
            "  99. 109. 115. 268. 274. 158. 107.  83. 103. 272.  85. 280. 336. 281.\n",
            " 118. 317. 235.  60. 174. 259. 178. 128.  96. 126. 288.  88. 292.  71.\n",
            " 197. 186.  25.  84.  96. 195.  53. 217. 172. 131. 214.  59.  70. 220.\n",
            " 268. 152.  47.  74. 295. 101. 151. 127. 237. 225.  81. 151. 107.  64.\n",
            " 138. 185. 265. 101. 137. 143. 141.  79. 292. 178.  91. 116.  86. 122.\n",
            "  72. 129. 142.  90. 158.  39. 196. 222. 277.  99. 196. 202. 155.  77.\n",
            " 191.  70.  73.  49.  65. 263. 248. 296. 214. 185.  78.  93. 252. 150.\n",
            "  77. 208.  77. 108. 160.  53. 220. 154. 259.  90. 246. 124.  67.  72.\n",
            " 257. 262. 275. 177.  71.  47. 187. 125.  78.  51. 258. 215. 303. 243.\n",
            "  91. 150. 310. 153. 346.  63.  89.  50.  39. 103. 308. 116. 145.  74.\n",
            "  45. 115. 264.  87. 202. 127. 182. 241.  66.  94. 283.  64. 102. 200.\n",
            " 265.  94. 230. 181. 156. 233.  60. 219.  80.  68. 332. 248.  84. 200.\n",
            "  55.  85.  89.  31. 129.  83. 275.  65. 198. 236. 253. 124.  44. 172.\n",
            " 114. 142. 109. 180. 144. 163. 147.  97. 220. 190. 109. 191. 122. 230.\n",
            " 242. 248. 249. 192. 131. 237.  78. 135. 244. 199. 270. 164.  72.  96.\n",
            " 306.  91. 214.  95. 216. 263. 178. 113. 200. 139. 139.  88. 148.  88.\n",
            " 243.  71.  77. 109. 272.  60.  54. 221.  90. 311. 281. 182. 321.  58.\n",
            " 262. 206. 233. 242. 123. 167.  63. 197.  71. 168. 140. 217. 121. 235.\n",
            " 245.  40.  52. 104. 132.  88.  69. 219.  72. 201. 110.  51. 277.  63.\n",
            " 118.  69. 273. 258.  43. 198. 242. 232. 175.  93. 168. 275. 293. 281.\n",
            "  72. 140. 189. 181. 209. 136. 261. 113. 131. 174. 257.  55.  84.  42.\n",
            " 146. 212. 233.  91. 111. 152. 120.  67. 310.  94. 183.  66. 173.  72.\n",
            "  49.  64.  48. 178. 104. 132. 220.  57.]\n"
          ]
        }
      ]
    },
    {
      "cell_type": "code",
      "source": [],
      "metadata": {
        "id": "FlSn6GEh1H0y"
      },
      "execution_count": null,
      "outputs": []
    },
    {
      "cell_type": "code",
      "source": [
        "plt.scatter(X[...,0],Y)\n",
        "plt.xlabel(\"Age\")\n",
        "plt.ylabel(\"Diabetes Progression\")"
      ],
      "metadata": {
        "colab": {
          "base_uri": "https://localhost:8080/",
          "height": 466
        },
        "id": "T731qBWcBgqK",
        "outputId": "ce2285a5-8fcb-4ab8-d716-1264f2315683"
      },
      "execution_count": 44,
      "outputs": [
        {
          "output_type": "execute_result",
          "data": {
            "text/plain": [
              "Text(0, 0.5, 'Diabetes Progression')"
            ]
          },
          "metadata": {},
          "execution_count": 44
        },
        {
          "output_type": "display_data",
          "data": {
            "text/plain": [
              "<Figure size 640x480 with 1 Axes>"
            ],
            "image/png": "[encoded data removed]"
          },
          "metadata": {}
        }
      ]
    },
    {
      "cell_type": "markdown",
      "source": [
        "Splitting the dataset into train & test dataset"
      ],
      "metadata": {
        "id": "tLABPGCO3H75"
      }
    },
    {
      "cell_type": "code",
      "source": [
        "x_train, x_test, y_train, y_test = train_test_split(X,Y, test_size = 0.2)"
      ],
      "metadata": {
        "id": "jWyNx6IAjsRr"
      },
      "execution_count": 51,
      "outputs": []
    },
    {
      "cell_type": "code",
      "source": [
        "print(x_train.shape, x_test.shape)"
      ],
      "metadata": {
        "colab": {
          "base_uri": "https://localhost:8080/"
        },
        "id": "P44Iin0h3dLP",
        "outputId": "34fef592-10b2-4a77-f250-7116653526e5"
      },
      "execution_count": 53,
      "outputs": [
        {
          "output_type": "stream",
          "name": "stdout",
          "text": [
            "(353, 1) (89, 1)\n"
          ]
        }
      ]
    },
    {
      "cell_type": "code",
      "source": [
        "print(x_test.size/(x_test.size + x_train.size)*(100))\n",
        "## Hence we can see that the test data is actually 20% of the original dataset and the training dataset is 80% of the entire dataset\n",
        "print(x_train.size/(x_test.size+x_train.size)*100)"
      ],
      "metadata": {
        "colab": {
          "base_uri": "https://localhost:8080/"
        },
        "id": "tt2ijQq86M7d",
        "outputId": "2dcc814c-370b-40b7-acbd-5bc8bef33db4"
      },
      "execution_count": 76,
      "outputs": [
        {
          "output_type": "stream",
          "name": "stdout",
          "text": [
            "20.13574660633484\n",
            "79.86425339366517\n"
          ]
        }
      ]
    },
    {
      "cell_type": "markdown",
      "source": [
        "Now we will be calling the Linear Regression function to fit and work our model for regression prediction"
      ],
      "metadata": {
        "id": "TyOfX6-L7FH6"
      }
    },
    {
      "cell_type": "code",
      "source": [
        "model = LinearRegression()"
      ],
      "metadata": {
        "id": "LWkp6N7J6Wih"
      },
      "execution_count": 62,
      "outputs": []
    },
    {
      "cell_type": "code",
      "source": [
        "model.fit(x_train, y_train)"
      ],
      "metadata": {
        "colab": {
          "base_uri": "https://localhost:8080/",
          "height": 74
        },
        "id": "MMH90K3s7rrR",
        "outputId": "ae0072ef-f00e-498a-96ac-f3e8c324b0bf"
      },
      "execution_count": 63,
      "outputs": [
        {
          "output_type": "execute_result",
          "data": {
            "text/plain": [
              "LinearRegression()"
            ],
            "text/html": [
              "<style>#sk-container-id-1 {color: black;background-color: white;}#sk-container-id-1 pre{padding: 0;}#sk-container-id-1 div.sk-toggleable {background-color: white;}#sk-container-id-1 label.sk-toggleable__label {cursor: pointer;display: block;width: 100%;margin-bottom: 0;padding: 0.3em;box-sizing: border-box;text-align: center;}#sk-container-id-1 label.sk-toggleable__label-arrow:before {content: \"▸\";float: left;margin-right: 0.25em;color: #696969;}#sk-container-id-1 label.sk-toggleable__label-arrow:hover:before {color: black;}#sk-container-id-1 div.sk-estimator:hover label.sk-toggleable__label-arrow:before {color: black;}#sk-container-id-1 div.sk-toggleable__content {max-height: 0;max-width: 0;overflow: hidden;text-align: left;background-color: #f0f8ff;}#sk-container-id-1 div.sk-toggleable__content pre {margin: 0.2em;color: black;border-radius: 0.25em;background-color: #f0f8ff;}#sk-container-id-1 input.sk-toggleable__control:checked~div.sk-toggleable__content {max-height: 200px;max-width: 100%;overflow: auto;}#sk-container-id-1 input.sk-toggleable__control:checked~label.sk-toggleable__label-arrow:before {content: \"▾\";}#sk-container-id-1 div.sk-estimator input.sk-toggleable__control:checked~label.sk-toggleable__label {background-color: #d4ebff;}#sk-container-id-1 div.sk-label input.sk-toggleable__control:checked~label.sk-toggleable__label {background-color: #d4ebff;}#sk-container-id-1 input.sk-hidden--visually {border: 0;clip: rect(1px 1px 1px 1px);clip: rect(1px, 1px, 1px, 1px);height: 1px;margin: -1px;overflow: hidden;padding: 0;position: absolute;width: 1px;}#sk-container-id-1 div.sk-estimator {font-family: monospace;background-color: #f0f8ff;border: 1px dotted black;border-radius: 0.25em;box-sizing: border-box;margin-bottom: 0.5em;}#sk-container-id-1 div.sk-estimator:hover {background-color: #d4ebff;}#sk-container-id-1 div.sk-parallel-item::after {content: \"\";width: 100%;border-bottom: 1px solid gray;flex-grow: 1;}#sk-container-id-1 div.sk-label:hover label.sk-toggleable__label {background-color: #d4ebff;}#sk-container-id-1 div.sk-serial::before {content: \"\";position: absolute;border-left: 1px solid gray;box-sizing: border-box;top: 0;bottom: 0;left: 50%;z-index: 0;}#sk-container-id-1 div.sk-serial {display: flex;flex-direction: column;align-items: center;background-color: white;padding-right: 0.2em;padding-left: 0.2em;position: relative;}#sk-container-id-1 div.sk-item {position: relative;z-index: 1;}#sk-container-id-1 div.sk-parallel {display: flex;align-items: stretch;justify-content: center;background-color: white;position: relative;}#sk-container-id-1 div.sk-item::before, #sk-container-id-1 div.sk-parallel-item::before {content: \"\";position: absolute;border-left: 1px solid gray;box-sizing: border-box;top: 0;bottom: 0;left: 50%;z-index: -1;}#sk-container-id-1 div.sk-parallel-item {display: flex;flex-direction: column;z-index: 1;position: relative;background-color: white;}#sk-container-id-1 div.sk-parallel-item:first-child::after {align-self: flex-end;width: 50%;}#sk-container-id-1 div.sk-parallel-item:last-child::after {align-self: flex-start;width: 50%;}#sk-container-id-1 div.sk-parallel-item:only-child::after {width: 0;}#sk-container-id-1 div.sk-dashed-wrapped {border: 1px dashed gray;margin: 0 0.4em 0.5em 0.4em;box-sizing: border-box;padding-bottom: 0.4em;background-color: white;}#sk-container-id-1 div.sk-label label {font-family: monospace;font-weight: bold;display: inline-block;line-height: 1.2em;}#sk-container-id-1 div.sk-label-container {text-align: center;}#sk-container-id-1 div.sk-container {/* jupyter's `normalize.less` sets `[hidden] { display: none; }` but bootstrap.min.css set `[hidden] { display: none !important; }` so we also need the `!important` here to be able to override the default hidden behavior on the sphinx rendered scikit-learn.org. See: https://github.com/scikit-learn/scikit-learn/issues/21755 */display: inline-block !important;position: relative;}#sk-container-id-1 div.sk-text-repr-fallback {display: none;}</style><div id=\"sk-container-id-1\" class=\"sk-top-container\"><div class=\"sk-text-repr-fallback\"><pre>LinearRegression()</pre><b>In a Jupyter environment, please rerun this cell to show the HTML representation or trust the notebook. <br />On GitHub, the HTML representation is unable to render, please try loading this page with nbviewer.org.</b></div><div class=\"sk-container\" hidden><div class=\"sk-item\"><div class=\"sk-estimator sk-toggleable\"><input class=\"sk-toggleable__control sk-hidden--visually\" id=\"sk-estimator-id-1\" type=\"checkbox\" checked><label for=\"sk-estimator-id-1\" class=\"sk-toggleable__label sk-toggleable__label-arrow\">LinearRegression</label><div class=\"sk-toggleable__content\"><pre>LinearRegression()</pre></div></div></div></div></div>"
            ]
          },
          "metadata": {},
          "execution_count": 63
        }
      ]
    },
    {
      "cell_type": "markdown",
      "source": [
        "Now we will be prediciting the y using our test dataset"
      ],
      "metadata": {
        "id": "PyUhX6-uAdo7"
      }
    },
    {
      "cell_type": "code",
      "source": [
        "y_predicted = model.predict(x_test)"
      ],
      "metadata": {
        "id": "eldHU3DCAaTq"
      },
      "execution_count": 65,
      "outputs": []
    },
    {
      "cell_type": "code",
      "source": [
        "plt.scatter(X[...,0],Y)\n",
        "plt.plot(x_test, y_predicted, color = 'green')\n",
        "plt.xlabel('Age')\n",
        "plt.ylabel('Diabetes Prediction')"
      ],
      "metadata": {
        "colab": {
          "base_uri": "https://localhost:8080/",
          "height": 466
        },
        "id": "DfIHHWje7yju",
        "outputId": "f0ec0921-95e1-4af4-d4c8-55786383d76e"
      },
      "execution_count": 69,
      "outputs": [
        {
          "output_type": "execute_result",
          "data": {
            "text/plain": [
              "Text(0, 0.5, 'Diabetes Prediction')"
            ]
          },
          "metadata": {},
          "execution_count": 69
        },
        {
          "output_type": "display_data",
          "data": {
            "text/plain": [
              "<Figure size 640x480 with 1 Axes>"
            ],
            "image/png": "[encoded data removed]"
          },
          "metadata": {}
        }
      ]
    },
    {
      "cell_type": "code",
      "source": [
        "## In order to prove the accuracy of the single parameter linear regression model that we have built we will be using the sklearn library\n",
        "# y = wx + b\n",
        "# w = co-efficient and b = intercept\n",
        "## 1st element of the model prediction predicted_y[0]\n",
        "## the .coef_ and .intercept_ attributes are those atributes that enable us to find the intercept of the linear regression\n",
        "w = model.coef_\n",
        "b = model.intercept_\n",
        "## This are the\n",
        "print(\"The co-efficient of the Linear Regression is: \", w[0])\n",
        "print(\"The intercept of the linear regression is: \", b)\n",
        "\n",
        "## In order to physically valididfy whether the test and predicted match or not\n",
        "print(y_predicted[0] == w*x_test[0]+b)"
      ],
      "metadata": {
        "colab": {
          "base_uri": "https://localhost:8080/"
        },
        "id": "S4DiKxDPBT52",
        "outputId": "cbe960af-eb89-45ea-8b8c-90c1abfe6998"
      },
      "execution_count": 80,
      "outputs": [
        {
          "output_type": "stream",
          "name": "stdout",
          "text": [
            "The co-efficient of the Linear Regression is:  310.62707539044237\n",
            "The intercept of the linear regression is:  153.27552409113594\n",
            "[ True]\n"
          ]
        }
      ]
    },
    {
      "cell_type": "code",
      "source": [
        "r2_err = r2_score(y_test, y_predicted)\n",
        "mse_err = mean_squared_error(y_test, y_predicted)\n",
        "print(\"The R2 scoer of the linear regression model is: \",r2_err)\n",
        "print(\"The Mean Squared error is: \", mse_err)"
      ],
      "metadata": {
        "colab": {
          "base_uri": "https://localhost:8080/"
        },
        "id": "eQ9UL6mdBwF0",
        "outputId": "b840e0a8-4bc1-4931-a8a4-4e51c5adcd24"
      },
      "execution_count": 85,
      "outputs": [
        {
          "output_type": "stream",
          "name": "stdout",
          "text": [
            "The R2 scoer of the linear regression model is:  0.029200091310999876\n",
            "The Mean Squared error is:  5600.888209667198\n"
          ]
        }
      ]
    },
    {
      "cell_type": "markdown",
      "source": [
        "Mutli-variable Linear Regression"
      ],
      "metadata": {
        "id": "eY-Mv2KXNa8g"
      }
    },
    {
      "cell_type": "code",
      "source": [
        "## Now in place of just taking 1 varaible for building the linear Regression model we will be using all the 10 variables for the model\n",
        "X1 = datasets['data']\n",
        "Y1 = datasets['target']"
      ],
      "metadata": {
        "id": "ItJKhP_dJQCy"
      },
      "execution_count": 118,
      "outputs": []
    },
    {
      "cell_type": "code",
      "source": [
        "X_train, X_test, Y_train, Y_test = train_test_split(X1, Y1, test_size = 0.25)"
      ],
      "metadata": {
        "id": "BSY-ev1fN9Ko"
      },
      "execution_count": 119,
      "outputs": []
    },
    {
      "cell_type": "code",
      "source": [
        "print('Dimensions of training in-dependant variables',X_train.shape)\n",
        "print('Dimensions of training dependant variable',Y_train.shape)\n",
        "print('Dimenasions of Test in-dependant varaibles', X_test.shape)\n",
        "print('Dimensions of Test dependant variables',Y_test.shape)"
      ],
      "metadata": {
        "colab": {
          "base_uri": "https://localhost:8080/"
        },
        "id": "-8ADTP2uONEe",
        "outputId": "249c0cf5-bcad-4de5-cdd1-43cd770f3169"
      },
      "execution_count": 120,
      "outputs": [
        {
          "output_type": "stream",
          "name": "stdout",
          "text": [
            "Dimensions of training in-dependant variables (331, 10)\n",
            "Dimensions of training dependant variable (331,)\n",
            "Dimenasions of Test in-dependant varaibles (111, 10)\n",
            "Dimensions of Test dependant variables (111,)\n"
          ]
        }
      ]
    },
    {
      "cell_type": "code",
      "source": [
        "model.fit(X_train, Y_train)"
      ],
      "metadata": {
        "colab": {
          "base_uri": "https://localhost:8080/",
          "height": 74
        },
        "id": "n1F77hxSOTQu",
        "outputId": "013b7c8f-8b20-4ab3-baec-e51a9bb6c315"
      },
      "execution_count": 121,
      "outputs": [
        {
          "output_type": "execute_result",
          "data": {
            "text/plain": [
              "LinearRegression()"
            ],
            "text/html": [
              "<style>#sk-container-id-5 {color: black;background-color: white;}#sk-container-id-5 pre{padding: 0;}#sk-container-id-5 div.sk-toggleable {background-color: white;}#sk-container-id-5 label.sk-toggleable__label {cursor: pointer;display: block;width: 100%;margin-bottom: 0;padding: 0.3em;box-sizing: border-box;text-align: center;}#sk-container-id-5 label.sk-toggleable__label-arrow:before {content: \"▸\";float: left;margin-right: 0.25em;color: #696969;}#sk-container-id-5 label.sk-toggleable__label-arrow:hover:before {color: black;}#sk-container-id-5 div.sk-estimator:hover label.sk-toggleable__label-arrow:before {color: black;}#sk-container-id-5 div.sk-toggleable__content {max-height: 0;max-width: 0;overflow: hidden;text-align: left;background-color: #f0f8ff;}#sk-container-id-5 div.sk-toggleable__content pre {margin: 0.2em;color: black;border-radius: 0.25em;background-color: #f0f8ff;}#sk-container-id-5 input.sk-toggleable__control:checked~div.sk-toggleable__content {max-height: 200px;max-width: 100%;overflow: auto;}#sk-container-id-5 input.sk-toggleable__control:checked~label.sk-toggleable__label-arrow:before {content: \"▾\";}#sk-container-id-5 div.sk-estimator input.sk-toggleable__control:checked~label.sk-toggleable__label {background-color: #d4ebff;}#sk-container-id-5 div.sk-label input.sk-toggleable__control:checked~label.sk-toggleable__label {background-color: #d4ebff;}#sk-container-id-5 input.sk-hidden--visually {border: 0;clip: rect(1px 1px 1px 1px);clip: rect(1px, 1px, 1px, 1px);height: 1px;margin: -1px;overflow: hidden;padding: 0;position: absolute;width: 1px;}#sk-container-id-5 div.sk-estimator {font-family: monospace;background-color: #f0f8ff;border: 1px dotted black;border-radius: 0.25em;box-sizing: border-box;margin-bottom: 0.5em;}#sk-container-id-5 div.sk-estimator:hover {background-color: #d4ebff;}#sk-container-id-5 div.sk-parallel-item::after {content: \"\";width: 100%;border-bottom: 1px solid gray;flex-grow: 1;}#sk-container-id-5 div.sk-label:hover label.sk-toggleable__label {background-color: #d4ebff;}#sk-container-id-5 div.sk-serial::before {content: \"\";position: absolute;border-left: 1px solid gray;box-sizing: border-box;top: 0;bottom: 0;left: 50%;z-index: 0;}#sk-container-id-5 div.sk-serial {display: flex;flex-direction: column;align-items: center;background-color: white;padding-right: 0.2em;padding-left: 0.2em;position: relative;}#sk-container-id-5 div.sk-item {position: relative;z-index: 1;}#sk-container-id-5 div.sk-parallel {display: flex;align-items: stretch;justify-content: center;background-color: white;position: relative;}#sk-container-id-5 div.sk-item::before, #sk-container-id-5 div.sk-parallel-item::before {content: \"\";position: absolute;border-left: 1px solid gray;box-sizing: border-box;top: 0;bottom: 0;left: 50%;z-index: -1;}#sk-container-id-5 div.sk-parallel-item {display: flex;flex-direction: column;z-index: 1;position: relative;background-color: white;}#sk-container-id-5 div.sk-parallel-item:first-child::after {align-self: flex-end;width: 50%;}#sk-container-id-5 div.sk-parallel-item:last-child::after {align-self: flex-start;width: 50%;}#sk-container-id-5 div.sk-parallel-item:only-child::after {width: 0;}#sk-container-id-5 div.sk-dashed-wrapped {border: 1px dashed gray;margin: 0 0.4em 0.5em 0.4em;box-sizing: border-box;padding-bottom: 0.4em;background-color: white;}#sk-container-id-5 div.sk-label label {font-family: monospace;font-weight: bold;display: inline-block;line-height: 1.2em;}#sk-container-id-5 div.sk-label-container {text-align: center;}#sk-container-id-5 div.sk-container {/* jupyter's `normalize.less` sets `[hidden] { display: none; }` but bootstrap.min.css set `[hidden] { display: none !important; }` so we also need the `!important` here to be able to override the default hidden behavior on the sphinx rendered scikit-learn.org. See: https://github.com/scikit-learn/scikit-learn/issues/21755 */display: inline-block !important;position: relative;}#sk-container-id-5 div.sk-text-repr-fallback {display: none;}</style><div id=\"sk-container-id-5\" class=\"sk-top-container\"><div class=\"sk-text-repr-fallback\"><pre>LinearRegression()</pre><b>In a Jupyter environment, please rerun this cell to show the HTML representation or trust the notebook. <br />On GitHub, the HTML representation is unable to render, please try loading this page with nbviewer.org.</b></div><div class=\"sk-container\" hidden><div class=\"sk-item\"><div class=\"sk-estimator sk-toggleable\"><input class=\"sk-toggleable__control sk-hidden--visually\" id=\"sk-estimator-id-5\" type=\"checkbox\" checked><label for=\"sk-estimator-id-5\" class=\"sk-toggleable__label sk-toggleable__label-arrow\">LinearRegression</label><div class=\"sk-toggleable__content\"><pre>LinearRegression()</pre></div></div></div></div></div>"
            ]
          },
          "metadata": {},
          "execution_count": 121
        }
      ]
    },
    {
      "cell_type": "code",
      "source": [
        "Y_predicted = model.predict(X_test)"
      ],
      "metadata": {
        "id": "ZgnisuqiPyD8"
      },
      "execution_count": 122,
      "outputs": []
    },
    {
      "cell_type": "code",
      "source": [
        "R2_score = r2_score(Y_test, Y_predicted)\n",
        "mean_err = mean_squared_error(Y_test, Y_predicted)"
      ],
      "metadata": {
        "id": "2Kc9uRe7P-az"
      },
      "execution_count": 123,
      "outputs": []
    },
    {
      "cell_type": "code",
      "source": [
        "R2_score"
      ],
      "metadata": {
        "colab": {
          "base_uri": "https://localhost:8080/"
        },
        "id": "vx_2pb_kQVUh",
        "outputId": "71e3620d-e4e5-4e00-e670-df5f73a0deb8"
      },
      "execution_count": 124,
      "outputs": [
        {
          "output_type": "execute_result",
          "data": {
            "text/plain": [
              "0.36797060543384985"
            ]
          },
          "metadata": {},
          "execution_count": 124
        }
      ]
    },
    {
      "cell_type": "code",
      "source": [
        "mean_err"
      ],
      "metadata": {
        "colab": {
          "base_uri": "https://localhost:8080/"
        },
        "id": "8WViOmSlQXEg",
        "outputId": "d6c0064f-6ab0-494a-a99b-33228862e883"
      },
      "execution_count": 125,
      "outputs": [
        {
          "output_type": "execute_result",
          "data": {
            "text/plain": [
              "2941.817212175376"
            ]
          },
          "metadata": {},
          "execution_count": 125
        }
      ]
    },
    {
      "cell_type": "code",
      "source": [],
      "metadata": {
        "id": "gBidWjrvQdRS"
      },
      "execution_count": null,
      "outputs": []
    }
  ]
}