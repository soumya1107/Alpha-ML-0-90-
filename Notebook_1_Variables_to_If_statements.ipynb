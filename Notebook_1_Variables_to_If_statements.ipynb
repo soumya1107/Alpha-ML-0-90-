{
  "nbformat": 4,
  "nbformat_minor": 0,
  "metadata": {
    "colab": {
      "provenance": []
    },
    "kernelspec": {
      "name": "python3",
      "display_name": "Python 3"
    },
    "language_info": {
      "name": "python"
    }
  },
  "cells": [
    {
      "cell_type": "code",
      "source": [
        "# Variables : Jar -> Storage, Re-usability\n",
        "\n",
        "# Single Line Comment\n",
        "\"\"\"\n",
        "Multi-line comment\n",
        "\"\"\"\n",
        "\n",
        "\"\"\"\n",
        "Assignment Statement\n",
        "LEFT: Variable\n",
        "RIGHT: Computation/Input\n",
        "\"\"\"\n",
        "\n",
        "x = 2 * 3\n",
        "x"
      ],
      "metadata": {
        "colab": {
          "base_uri": "https://localhost:8080/"
        },
        "id": "ht4kwrV-Ha_p",
        "outputId": "1d6e8f01-9985-4819-d2aa-5bd9f2257032"
      },
      "execution_count": 5,
      "outputs": [
        {
          "output_type": "execute_result",
          "data": {
            "text/plain": [
              "6"
            ]
          },
          "metadata": {},
          "execution_count": 5
        }
      ]
    },
    {
      "cell_type": "code",
      "source": [
        "\"\"\"\n",
        "Building a calculator\n",
        "\n",
        "Operations: Add, Multiply, Subtraction\n",
        "Inputs: 2\n",
        "\"\""
      ],
      "metadata": {
        "id": "fsUwCAbfIof7"
      },
      "execution_count": null,
      "outputs": []
    },
    {
      "cell_type": "code",
      "source": [
        "input1 = 7\n",
        "input2 = 5\n",
        "\n",
        "output = input1 * input2\n",
        "output"
      ],
      "metadata": {
        "colab": {
          "base_uri": "https://localhost:8080/"
        },
        "id": "z6eMYCx1JuEa",
        "outputId": "6df01a2e-1f44-4132-a9a4-44e57d87d8c3"
      },
      "execution_count": 8,
      "outputs": [
        {
          "output_type": "execute_result",
          "data": {
            "text/plain": [
              "35"
            ]
          },
          "metadata": {},
          "execution_count": 8
        }
      ]
    },
    {
      "cell_type": "code",
      "source": [
        "\"\"\"\n",
        "if-elif-else statement: CHECKING OPTIONS & EXECUTE RESPECTIVE INSTRUCTIONS!\n",
        "- What is there in the jar??\n",
        "- Is it coconut oil?\n",
        "- Is it gingelly oil?\n",
        "\n",
        "if(condition is true):\n",
        "  do something!\n",
        "elif(condition2 is true):\n",
        "  do something in between!\n",
        "elif(condition3 is true):\n",
        "  do something more!\n",
        "else:\n",
        "  do something else!\n",
        "\n",
        "BRACKET: check true of false!\n",
        "\"\"\"\n"
      ],
      "metadata": {
        "id": "hrfAsewtKDg-"
      },
      "execution_count": null,
      "outputs": []
    },
    {
      "cell_type": "code",
      "source": [
        "\"\"\"\n",
        "Variables: What are the different things which can be stored?\n",
        "- Jar: Oil, Pulses, Spices\n",
        "\n",
        "Python:\n",
        "- Int (4, 5, 7, -3)\n",
        "- Float (4.5, -2.3, 6.7)\n",
        "- String - Sequence of characters enclosed in ' ' or \" \" : Text!!\n",
        "Examples: 'sub', '&42349)/***'\n",
        "\"\"\"\n",
        "\n",
        "operator = \"sub\" #'sub' or 'mul' or 'add'\n",
        "\n",
        "if(operator == \"add\"):\n",
        "  output = input1 + input2\n",
        "  print('YOLO!')\n",
        "  output2 = output / 3\n",
        "elif(operator == \"sub\"):\n",
        "  output = input1 - input2\n",
        "elif(operator == \"mul\"):\n",
        "  output = input1 * input2\n",
        "else:\n",
        "  output = -999999999\n",
        "  print('Invalid output')\n",
        "\n",
        "print(output)"
      ],
      "metadata": {
        "colab": {
          "base_uri": "https://localhost:8080/"
        },
        "id": "6OiJbCjlK4zU",
        "outputId": "8ec25c62-d93f-44f3-a29c-f0a0068b1e22"
      },
      "execution_count": 10,
      "outputs": [
        {
          "output_type": "stream",
          "name": "stdout",
          "text": [
            "2\n"
          ]
        }
      ]
    },
    {
      "cell_type": "code",
      "source": [
        "\"\"\"\n",
        "CHECKING OPERATION: involves ==\n",
        "if(LHS == RHS) -> check if LHS is equal to RHS\n",
        "\n",
        "CLEAR DIFFERENCE B/W ASSIGNMENT (=, storage) AND CHECKING (==)!\n",
        "\"\"\""
      ],
      "metadata": {
        "id": "RMB2j_8mMGH7"
      },
      "execution_count": null,
      "outputs": []
    },
    {
      "cell_type": "code",
      "source": [
        "\"\"\"\n",
        "Syntax - Indentation\n",
        "Tabs/Spaces\n",
        "\n",
        "Gets initiated when ':'\n",
        "Next set of lines are indented => 2/4 or 1 tab inside\n",
        "You have to exit consciously - the next set of lines!\n",
        "\"\"\"\n",
        "\n",
        "\n",
        "if(operator == 'add'):\n",
        "  output = input1 + input2\n",
        "elif(operator == 'sub'):\n",
        "  output = input1 - input2\n",
        "  print('sub!')\n",
        "else:\n",
        "  print('Done!')"
      ],
      "metadata": {
        "id": "tNs4oVFdOTq3"
      },
      "execution_count": null,
      "outputs": []
    },
    {
      "cell_type": "code",
      "source": [
        "\"\"\"\n",
        "Function: Built-in functions -> Print\n",
        "\n",
        "function_name(variable)\n",
        "function_name(string)\n",
        "Print: Display whatever input is given!\n",
        "\"\"\"\n",
        "\n",
        "print(input1)\n",
        "print(operator)\n",
        "print(\"DOne!\")"
      ],
      "metadata": {
        "colab": {
          "base_uri": "https://localhost:8080/"
        },
        "id": "Eubu9PWsP9nz",
        "outputId": "5e2a3b35-af7e-417d-92e6-db374c80779f"
      },
      "execution_count": 11,
      "outputs": [
        {
          "output_type": "stream",
          "name": "stdout",
          "text": [
            "7\n",
            "sub\n",
            "DOne!\n"
          ]
        }
      ]
    },
    {
      "cell_type": "code",
      "source": [],
      "metadata": {
        "id": "D_XPNZYNQUmm"
      },
      "execution_count": null,
      "outputs": []
    }
  ]
}