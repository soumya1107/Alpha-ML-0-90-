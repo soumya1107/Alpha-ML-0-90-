{
 "cells": [
  {
   "cell_type": "code",
   "execution_count": null,
   "metadata": {
    "id": "XKYdbT8Mwe7e"
   },
   "outputs": [],
   "source": [
    "\"\"\"\n",
    "Write 3 functions, one for each operation:\n",
    "Input: List of strings\n",
    "Assume: The search elements exist atleast once in the list\n",
    "\"\"\""
   ]
  },
  {
   "cell_type": "code",
   "execution_count": 3,
   "metadata": {
    "id": "UQoc37eixzUs"
   },
   "outputs": [
    {
     "name": "stdout",
     "output_type": "stream",
     "text": [
      "4\n"
     ]
    }
   ],
   "source": [
    "\"\"\"\n",
    "Given the input list and element to be found, return the index of the first occurance\n",
    "Input List = [\"hey\", \"how\", \"is\", \"hey\", \"you\", \"how\", \"are\", \"you\", \"hey\"]\n",
    "Search Element = \"you\"\n",
    "Output = 4\n",
    "\"\"\"\n",
    "def search(input_list, search_elem):\n",
    "  \n",
    "    for ind in range(len(input_list)):\n",
    "        if input_list[ind] == search_elem:\n",
    "            return ind\n",
    "                   \n",
    "print(search([\"hey\", \"how\", \"is\", \"hey\", \"you\", \"how\", \"are\", \"you\", \"hey\"], \"you\"))"
   ]
  },
  {
   "cell_type": "code",
   "execution_count": 4,
   "metadata": {
    "id": "QjwLVStYyBHQ"
   },
   "outputs": [
    {
     "data": {
      "text/plain": [
       "3"
      ]
     },
     "execution_count": 4,
     "metadata": {},
     "output_type": "execute_result"
    }
   ],
   "source": [
    "\"\"\"\n",
    "Given the input list, count the number of elements equal to 'search_elem'\n",
    "Input List = [\"hey\", \"how\", \"is\", \"hey\", \"you\", \"how\", \"are\", \"you\", \"hey\"]\n",
    "Search Element = \"hey\"\n",
    "Output = 3\n",
    "\"\"\"\n",
    "def count(input_list, search_elem):\n",
    "  \n",
    "    count = 0\n",
    "    for i in range(len(input_list)):\n",
    "        if input_list[i] == search_elem:\n",
    "            count += 1\n",
    "            \n",
    "    return count\n",
    "\n",
    "count([\"hey\", \"how\", \"is\", \"hey\", \"you\", \"how\", \"are\", \"you\", \"hey\"], \"hey\")"
   ]
  },
  {
   "cell_type": "code",
   "execution_count": 17,
   "metadata": {
    "id": "6DanXkDvyTuY"
   },
   "outputs": [
    {
     "name": "stdout",
     "output_type": "stream",
     "text": [
      "{'hey': [0, 3, 8], 'you': [4, 7]}\n"
     ]
    }
   ],
   "source": [
    "\"\"\"\n",
    "Given the input list, and another list of search terms, return a dict with a list of their corresponding indices\n",
    "Input List = [\"hey\", \"how\", \"is\", \"hey\", \"you\", \"how\", \"are\", \"you\", \"hey\"]\n",
    "Search List = [\"hey\", \"you\"]\n",
    "Output Dict = {\n",
    "  \"hey\" : [0, 3, 8],\n",
    "  \"you\" : [4, 7]\n",
    "}\n",
    "\n",
    "Concept: Nested for loops -> One for loop inside another\n",
    "\"\"\"\n",
    "\n",
    "## Here what I have tried to do differently is in place of using a nested loop and having a time complexity of O(n^2)\n",
    "## I have used a hash-set to make the search function quicker and \n",
    "\n",
    "def search_location(input_list, search_list):\n",
    "      \n",
    "    search_items = set()\n",
    "    ## capturing the search_list in a hash-set for faster search of items\n",
    "    for item in search_list:\n",
    "        search_items.add(item)\n",
    "    \n",
    "    op_dict = {}\n",
    "    \n",
    "    for i in range(len(input_list)):\n",
    "        \n",
    "        if input_list[i] in search_items:\n",
    "            \n",
    "            if input_list[i] in op_dict.keys():\n",
    "                op_dict[input_list[i]].append(i)\n",
    "                \n",
    "            else:\n",
    "                op_dict[input_list[i]] = [i]\n",
    "                \n",
    "    return op_dict\n",
    "\n",
    "print(search_location([\"hey\", \"how\", \"is\", \"hey\", \"you\", \"how\", \"are\", \"you\", \"hey\"], ['hey','you']))"
   ]
  },
  {
   "cell_type": "code",
   "execution_count": null,
   "metadata": {},
   "outputs": [],
   "source": []
  },
  {
   "cell_type": "code",
   "execution_count": null,
   "metadata": {},
   "outputs": [],
   "source": []
  },
  {
   "cell_type": "code",
   "execution_count": null,
   "metadata": {},
   "outputs": [],
   "source": []
  }
 ],
 "metadata": {
  "colab": {
   "provenance": []
  },
  "kernelspec": {
   "display_name": "Python 3 (ipykernel)",
   "language": "python",
   "name": "python3"
  },
  "language_info": {
   "codemirror_mode": {
    "name": "ipython",
    "version": 3
   },
   "file_extension": ".py",
   "mimetype": "text/x-python",
   "name": "python",
   "nbconvert_exporter": "python",
   "pygments_lexer": "ipython3",
   "version": "3.9.12"
  }
 },
 "nbformat": 4,
 "nbformat_minor": 1
}
